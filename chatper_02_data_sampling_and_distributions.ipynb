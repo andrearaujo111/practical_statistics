{
 "cells": [
  {
   "cell_type": "code",
   "execution_count": 1,
   "id": "2b64ac72-073e-49a8-b66b-f17f4769415e",
   "metadata": {},
   "outputs": [],
   "source": [
    "import warnings\n",
    "import pandas            as pd\n",
    "import numpy             as np\n",
    "import seaborn           as sns\n",
    "import matplotlib.pyplot as plt \n",
    "\n",
    "from sklearn.utils import resample"
   ]
  },
  {
   "cell_type": "code",
   "execution_count": 2,
   "id": "13ebda33-636b-4b4f-87c6-3a7d25faf1c0",
   "metadata": {},
   "outputs": [],
   "source": [
    "# set params\n",
    "warnings.filterwarnings(\"ignore\")"
   ]
  },
  {
   "cell_type": "markdown",
   "id": "78139bf8-8ea2-4442-9154-be1236ae52c6",
   "metadata": {},
   "source": [
    "## Example: Central Limit Theorem (the tendency of sample distributions to take normal distribution)"
   ]
  },
  {
   "cell_type": "markdown",
   "id": "5fed420b-1788-4dbf-8122-1d213a32560d",
   "metadata": {},
   "source": [
    "Histogram of annual incomes of 1,000 loan applicants (top), then 1,000 means of n=5 applicants (middle), and finally 1,000 means of n=20 applicants (bottom)"
   ]
  },
  {
   "cell_type": "code",
   "execution_count": 3,
   "id": "c4d77bb6-dace-4467-8df3-7baed6a8c292",
   "metadata": {},
   "outputs": [],
   "source": [
    "# load data\n",
    "loans_income = pd.read_csv('data/loans_income.csv')\n",
    "\n",
    "# select a sample of 1k\n",
    "sample_data = loans_income.sample(1000).reset_index(drop=True)\n",
    "sample_data['type'] = 'sample'\n",
    "\n",
    "# select 1k means of 5\n",
    "sample_mean_5 = pd.DataFrame([loans_income.sample(5).mean() for _ in range(1000)]).reset_index(drop=True)\n",
    "sample_mean_5['type'] = 'mean_of_5'\n",
    "\n",
    "# select 1k means of 20\n",
    "sample_mean_20 = pd.DataFrame([loans_income.sample(20).mean() for _ in range(1000)]).reset_index(drop=True)\n",
    "sample_mean_20['type'] = 'mean_of_20'\n",
    "\n",
    "# concat results\n",
    "results = pd.concat([sample_data, sample_mean_5, sample_mean_20], axis=0).reset_index(drop=True)"
   ]
  },
  {
   "cell_type": "code",
   "execution_count": 4,
   "id": "b1caf407-db11-418c-b27a-0ee3e9439597",
   "metadata": {},
   "outputs": [
    {
     "data": {
      "image/png": "[encoded data removed]",
      "text/plain": [
       "<Figure size 1500x500 with 3 Axes>"
      ]
     },
     "metadata": {},
     "output_type": "display_data"
    }
   ],
   "source": [
    "g = sns.FacetGrid(results, col='type', height=5)\n",
    "g.map(plt.hist, 'x', range=[0, 200000], bins=40)\n",
    "plt.show()"
   ]
  },
  {
   "cell_type": "markdown",
   "id": "40dbcdc5-5870-4f7d-a1b0-9adedf75120e",
   "metadata": {},
   "source": [
    "## Example:  The bootstrap to the median incomes of people taking out loans "
   ]
  },
  {
   "cell_type": "code",
   "execution_count": 5,
   "id": "01275080-7361-4971-aaef-6b75f0948d6e",
   "metadata": {},
   "outputs": [],
   "source": [
    "results = []\n",
    "\n",
    "for i in range(1000):\n",
    "    # draw resamples\n",
    "    sample = resample(loans_income)\n",
    "\n",
    "    # Take the median of each sample\n",
    "    results.append(sample.median())\n",
    "\n",
    "results = pd.Series(results)"
   ]
  },
  {
   "cell_type": "code",
   "execution_count": 8,
   "id": "b7f9b16d-df7f-4ce1-a394-bf8f210e8298",
   "metadata": {},
   "outputs": [
    {
     "name": "stdout",
     "output_type": "stream",
     "text": [
      "Bootstap Statistics:\n",
      "\n",
      "original: x    62000.0\n",
      "dtype: float64\n",
      "----------------\n",
      "bias: x   -76.284\n",
      "dtype: float64\n",
      "----------------\n",
      "std. error: 218.00799143225996\n"
     ]
    }
   ],
   "source": [
    "print('Bootstap Statistics:\\n')\n",
    "\n",
    "print(f'original: {loans_income.median()}')\n",
    "print('----------------')\n",
    "print(f'bias: {results.mean() - loans_income.median()}')\n",
    "print('----------------')\n",
    "print(f'std. error: {results.std()}')"
   ]
  },
  {
   "cell_type": "markdown",
   "id": "15d83f49-4919-43d2-92ec-eb3a919056ac",
   "metadata": {},
   "source": [
    "## Bootstrap confidence interval for the annual income of loan applicants, based on a sample of 20"
   ]
  },
  {
   "cell_type": "code",
   "execution_count": 12,
   "id": "30b99b37-08f8-4b5e-b0dc-cadc56a9a2b7",
   "metadata": {},
   "outputs": [
    {
     "name": "stdout",
     "output_type": "stream",
     "text": [
      "Confidence Interval: [68358.9467774 69169.8590832]\n"
     ]
    }
   ],
   "source": [
    "#n of iteractions\n",
    "n_iterations = 1000\n",
    "\n",
    "# list to store bootstap statistics\n",
    "bs_stats = []\n",
    "\n",
    "# run bootstrap and calculate statistics\n",
    "for _ in range(n_iterations):\n",
    "    sample = resample(loans_income)\n",
    "    statistic = np.mean(sample)\n",
    "    bs_stats.append(statistic)\n",
    "\n",
    "# calculate confidence interval of 99%\n",
    "ci = np.percentile(bs_stats, [0.5, 99.5])\n",
    "\n",
    "print(f'Confidence Interval: {ci}')"
   ]
  },
  {
   "cell_type": "markdown",
   "id": "c19a1f2a-c6a0-4475-b071-50c592032ae6",
   "metadata": {},
   "source": [
    "90% - Confidence Interval: **[68511.13 - 69008.22]**    \n",
    "95% - Confidence Interval: **[68464.46 - 69025.38]**    \n",
    "99% - Confidence Interval: **[68358.95 - 69169.86]**    "
   ]
  },
  {
   "cell_type": "code",
   "execution_count": null,
   "id": "a1822dd2-b023-4b8f-a2b9-3813a99ce282",
   "metadata": {},
   "outputs": [],
   "source": []
  }
 ],
 "metadata": {
  "kernelspec": {
   "display_name": "Python 3 (ipykernel)",
   "language": "python",
   "name": "python3"
  },
  "language_info": {
   "codemirror_mode": {
    "name": "ipython",
    "version": 3
   },
   "file_extension": ".py",
   "mimetype": "text/x-python",
   "name": "python",
   "nbconvert_exporter": "python",
   "pygments_lexer": "ipython3",
   "version": "3.11.1"
  }
 },
 "nbformat": 4,
 "nbformat_minor": 5
}
